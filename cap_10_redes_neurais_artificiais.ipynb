{
 "cells": [
  {
   "cell_type": "markdown",
   "id": "69150e59",
   "metadata": {},
   "source": [
    "Capítulo 10: Introdução às Redes Neurais Artificiais"
   ]
  },
  {
   "cell_type": "markdown",
   "id": "1bfbb602",
   "metadata": {},
   "source": [
    "O Capítulo 10, \"Introdução às Redes Neurais Artificiais\", aborda os **conceitos fundamentais das Redes Neurais Artificiais (RNAs)**, incluindo sua arquitetura e métodos de treinamento. Ele transita desde as inspirações biológicas até as implementações práticas usando TensorFlow.\n",
    "\n",
    "## De Neurônios Biológicos a Artificiais\n",
    "\n",
    "*   **Origem e Inspiração**: As RNAs foram introduzidas em 1943 por Warren McCulloch e Walter Pitts, baseando-se em um **modelo computacional simplificado de neurônios biológicos** para realizar cálculos usando lógica proposicional.\n",
    "*   **Neurônio Biológico**: Consiste em um corpo celular, **dendritos** (que recebem sinais) e um **axônio** longo com terminais sinápticos (sinapses) que se conectam a outros neurônios. Ele dispara sinais elétricos quando recebe impulsos suficientes.\n",
    "*   **Neurônios Artificiais (LTUs)**: As RNAs são inspiradas em neurônios biológicos, mas não precisam ser biologicamente realistas para serem eficazes. O capítulo menciona que neurônios são frequentemente organizados em camadas consecutivas.\n",
    "\n",
    "## Perceptrons\n",
    "\n",
    "*   **Primeira Arquitetura de RNA**: Os Perceptrons foram as primeiras arquiteturas de RNA. São baseados em **Unidades de Limiar Linear (LTUs)**.\n",
    "*   **Funcionamento do LTU**: Um LTU calcula uma **soma ponderada das entradas** e aplica uma **função de passo** (como a função de passo Heaviside ou a função `sgn`) para produzir uma saída binária (0 ou 1, ou -1 e 1).\n",
    "*   **Composição do Perceptron**: Um Perceptron é formado por uma única camada de LTUs, onde cada neurônio está conectado a todas as entradas. Geralmente, uma **entrada de polarização (bias)** (`x0 = 1`) é adicionada.\n",
    "*   **Algoritmo de Treinamento**: O algoritmo de treinamento do Perceptron, proposto por Frank Rosenblatt, foi inspirado na regra de Hebb e garante a convergência para uma solução se os dados forem **linearmente separáveis**.\n",
    "*   **Limitações**: Perceptrons são **incapazes de aprender padrões complexos** que não são linearmente separáveis (ex: problema XOR), o que levou a um declínio na pesquisa em redes neurais na década de 1960. Um Perceptron não produz probabilidades de classe, apenas previsões baseadas em um limiar rígido, ao contrário da Regressão Logística.\n",
    "\n",
    "## Perceptrons Multi-Camadas (MLPs) e Retropropagação\n",
    "\n",
    "*   **Arquitetura do MLP**: Um MLP é composto por uma camada de entrada (passthrough), **uma ou mais camadas ocultas** de LTUs e uma camada de saída final. Cada camada (exceto a de saída) inclui um neurônio de polarização e é totalmente conectada à camada seguinte.\n",
    "*   **Rede Neural Profunda (DNN)**: Uma RNA com duas ou mais camadas ocultas é chamada de **Deep Neural Network (DNN)**.\n",
    "*   **Algoritmo de Treinamento (Retropropagação)**: O algoritmo de **retropropagação (backpropagation)** é crucial para treinar MLPs.\n",
    "    *   **Passo para frente**: Calcula a saída de cada neurônio camada por camada.\n",
    "    *   **Cálculo do Erro**: Mede o erro da rede na camada de saída.\n",
    "    *   **Passo reverso**: Propaga o gradiente do erro para trás, pelas camadas, calculando a contribuição de cada conexão para o erro.\n",
    "    *   **Ajuste de Pesos**: Ajusta os pesos das conexões usando o Gradiente Descendente para reduzir o erro.\n",
    "    *   **Relação com Autodiferenciação**: A retropropagação é uma forma de **autodiferenciação no modo reverso**.\n",
    "*   **Funções de Ativação em MLPs**: Para que a retropropagação funcione, as funções de passo rígidas foram substituídas por **funções de ativação contínuas e diferenciáveis**, como a função logística (sigmoide).\n",
    "\n",
    "## Funções de Ativação\n",
    "\n",
    "As funções de ativação introduzem **não-linearidades** nas redes neurais, permitindo que elas aprendam padrões complexos.\n",
    "\n",
    "*   **Função Logística (Sigmoide)**: Possui formato em \"S\", com saída entre 0 e 1. É contínua e diferenciável, essencial para o Gradiente Descendente.\n",
    "*   **Função Tangente Hiperbólica (tanh)**: Também em \"S\", com saída entre -1 e 1. Tende a normalizar as saídas da camada em torno de zero, o que pode acelerar a convergência.\n",
    "*   **Função ReLU (Rectified Linear Unit)**: Definida como `max(0, z)`. É rápida de calcular e não satura para valores de entrada grandes, o que ajuda a mitigar problemas de Gradiente Descendente. Embora não seja biologicamente realista, a ReLU geralmente apresenta melhor desempenho em RNAs.\n",
    "*   **Função Softmax**: Usada comumente na camada de saída para **problemas de classificação multiclasse** (com classes mutuamente exclusivas), fornecendo probabilidades estimadas para cada classe.\n",
    "*   **Redes Feedforward (FNN)**: Redes neurais onde o sinal flui apenas em uma direção (entrada para saída).\n",
    "\n",
    "## Treinando um MLP com TensorFlow\n",
    "\n",
    "O TensorFlow permite construir e treinar RNAs usando uma **API de alto nível (TF.Learn)** para simplicidade ou uma **API de baixo nível** para maior controle.\n",
    "\n",
    "*   **Fases do Programa TensorFlow**:\n",
    "    1.  **Fase de Construção**: Define o grafo de computação do modelo, incluindo as camadas neurais e as operações de treinamento.\n",
    "    2.  **Fase de Execução**: Roda o grafo em uma sessão, inicializando variáveis e avaliando as operações para treinar o modelo.\n",
    "*   **Nós Importantes**:\n",
    "    *   **`tf.Variable`**: Representa os parâmetros do modelo (pesos e vieses).\n",
    "    *   **`tf.placeholder`**: Usado para alimentar dados de entrada (X) e rótulos (y) para a rede durante a execução.\n",
    "    *   **`tf.name_scope`**: Ajuda a organizar nós relacionados no grafo, tornando a visualização no TensorBoard mais clara.\n",
    "*   **Camadas Conectadas**: O TensorFlow oferece a função `fully_connected()` (em `tf.contrib.layers`) para criar camadas totalmente conectadas, gerenciando pesos, vieses e funções de ativação.\n",
    "*   **`logits`**: São as saídas da rede neural **antes** de passar pela função de ativação softmax; são frequentemente manipulados separadamente para otimização.\n",
    "*   **Função de Custo**: Para classificação multiclasse, a **entropia cruzada** é uma escolha comum, implementada com `tf.nn.sparse_softmax_cross_entropy_with_logits()`. A média do erro é calculada com `tf.reduce_mean()`.\n",
    "*   **Otimizador**: Um otimizador (ex: `tf.train.GradientDescentOptimizer`) ajusta os parâmetros do modelo para minimizar a função de custo.\n",
    "*   **Medida de Desempenho (Acurácia)**: Pode ser calculada usando `tf.nn.in_top_k()` (para verificar se a classe correta está entre as `k` maiores previsões) e `tf.reduce_mean()`.\n",
    "*   **Salvando e Restaurando Modelos**: Modelos treinados podem ser **salvos e restaurados** usando `tf.train.Saver()` para reutilização ou para continuar o treinamento de um checkpoint.\n",
    "\n",
    "## Ajuste Fino de Hiperparâmetros de Redes Neurais\n",
    "\n",
    "O ajuste de hiperparâmetros é crucial para o desempenho do modelo.\n",
    "\n",
    "*   **Estratégia de Busca**: Devido ao grande espaço de hiperparâmetros, a **busca aleatória (`RandomizedSearchCV`)** é geralmente preferível à busca em grade (`GridSearchCV`).\n",
    "*   **Número de Camadas Ocultas**: Para muitos problemas, uma ou duas camadas ocultas são suficientes. Redes profundas são mais eficientes em parâmetros e modelam dados hierárquicos, mas podem levar ao overfitting se forem excessivamente complexas.\n",
    "*   **Número de Neurônios por Camada Oculta**: As camadas de entrada e saída são determinadas pela tarefa. As camadas ocultas podem ter um formato de funil (menos neurônios em camadas mais profundas) ou o mesmo número de neurônios. A estratégia \"calças elásticas\" (stretch pants) sugere usar mais neurônios e camadas do que o necessário, confiando no **early stopping** e outras técnicas de regularização para evitar overfitting.\n",
    "*   **Funções de Ativação**: A função **ReLU** (ou suas variantes) é uma boa escolha para camadas ocultas. A **softmax** é recomendada para a camada de saída em tarefas de classificação multiclasse. Para tarefas de regressão, geralmente nenhuma função de ativação é usada na camada de saída.\n",
    "\n",
    "---"
   ]
  },
  {
   "cell_type": "markdown",
   "id": "93021aa7",
   "metadata": {},
   "source": [
    "### Implementação:"
   ]
  },
  {
   "cell_type": "code",
   "execution_count": 39,
   "id": "579453e0",
   "metadata": {},
   "outputs": [],
   "source": [
    "import os\n",
    "import numpy as np\n",
    "import matplotlib.pyplot as plt\n",
    "from sklearn.datasets import load_iris\n",
    "from sklearn.linear_model import Perceptron\n",
    "import tensorflow as tf\n",
    "from sklearn.model_selection import train_test_split\n",
    "from tensorflow import feature_column\n",
    "from tensorflow.keras import layers\n",
    "from tensorflow.keras.models import Sequential\n",
    "from sklearn.metrics import accuracy_score\n",
    "from tensorflow.keras.datasets import mnist\n",
    "from tensorflow.keras import layers, models, callbacks\n"
   ]
  },
  {
   "cell_type": "markdown",
   "id": "593c771b",
   "metadata": {},
   "source": [
    "Treinando um MLP com API de alto nível do TF"
   ]
  },
  {
   "cell_type": "code",
   "execution_count": 9,
   "id": "3811a3eb",
   "metadata": {},
   "outputs": [
    {
     "name": "stdout",
     "output_type": "stream",
     "text": [
      "Epoch 1/40\n"
     ]
    },
    {
     "name": "stderr",
     "output_type": "stream",
     "text": [
      "c:\\Users\\andre\\AppData\\Local\\Programs\\Python\\Python313\\Lib\\site-packages\\keras\\src\\layers\\core\\dense.py:92: UserWarning: Do not pass an `input_shape`/`input_dim` argument to a layer. When using Sequential models, prefer using an `Input(shape)` object as the first layer in the model instead.\n",
      "  super().__init__(activity_regularizer=activity_regularizer, **kwargs)\n"
     ]
    },
    {
     "name": "stdout",
     "output_type": "stream",
     "text": [
      "\u001b[1m2/2\u001b[0m \u001b[32m━━━━━━━━━━━━━━━━━━━━\u001b[0m\u001b[37m\u001b[0m \u001b[1m1s\u001b[0m 137ms/step - accuracy: 0.5312 - loss: 0.6501 - val_accuracy: 0.7917 - val_loss: 0.4647\n",
      "Epoch 2/40\n",
      "\u001b[1m2/2\u001b[0m \u001b[32m━━━━━━━━━━━━━━━━━━━━\u001b[0m\u001b[37m\u001b[0m \u001b[1m1s\u001b[0m 137ms/step - accuracy: 0.5312 - loss: 0.6501 - val_accuracy: 0.7917 - val_loss: 0.4647\n",
      "Epoch 2/40\n",
      "\u001b[1m2/2\u001b[0m \u001b[32m━━━━━━━━━━━━━━━━━━━━\u001b[0m\u001b[37m\u001b[0m \u001b[1m0s\u001b[0m 45ms/step - accuracy: 0.6354 - loss: 0.5219 - val_accuracy: 0.7917 - val_loss: 0.3616\n",
      "Epoch 3/40\n",
      "\u001b[1m2/2\u001b[0m \u001b[32m━━━━━━━━━━━━━━━━━━━━\u001b[0m\u001b[37m\u001b[0m \u001b[1m0s\u001b[0m 45ms/step - accuracy: 0.6354 - loss: 0.5219 - val_accuracy: 0.7917 - val_loss: 0.3616\n",
      "Epoch 3/40\n",
      "\u001b[1m2/2\u001b[0m \u001b[32m━━━━━━━━━━━━━━━━━━━━\u001b[0m\u001b[37m\u001b[0m \u001b[1m0s\u001b[0m 46ms/step - accuracy: 0.6354 - loss: 0.4716 - val_accuracy: 0.7917 - val_loss: 0.3142\n",
      "Epoch 4/40\n",
      "\u001b[1m2/2\u001b[0m \u001b[32m━━━━━━━━━━━━━━━━━━━━\u001b[0m\u001b[37m\u001b[0m \u001b[1m0s\u001b[0m 46ms/step - accuracy: 0.6354 - loss: 0.4716 - val_accuracy: 0.7917 - val_loss: 0.3142\n",
      "Epoch 4/40\n",
      "\u001b[1m2/2\u001b[0m \u001b[32m━━━━━━━━━━━━━━━━━━━━\u001b[0m\u001b[37m\u001b[0m \u001b[1m0s\u001b[0m 44ms/step - accuracy: 0.6354 - loss: 0.4512 - val_accuracy: 0.7917 - val_loss: 0.2934\n",
      "Epoch 5/40\n",
      "\u001b[1m2/2\u001b[0m \u001b[32m━━━━━━━━━━━━━━━━━━━━\u001b[0m\u001b[37m\u001b[0m \u001b[1m0s\u001b[0m 44ms/step - accuracy: 0.6354 - loss: 0.4512 - val_accuracy: 0.7917 - val_loss: 0.2934\n",
      "Epoch 5/40\n",
      "\u001b[1m2/2\u001b[0m \u001b[32m━━━━━━━━━━━━━━━━━━━━\u001b[0m\u001b[37m\u001b[0m \u001b[1m0s\u001b[0m 47ms/step - accuracy: 0.6354 - loss: 0.4463 - val_accuracy: 0.7917 - val_loss: 0.2829\n",
      "Epoch 6/40\n",
      "\u001b[1m2/2\u001b[0m \u001b[32m━━━━━━━━━━━━━━━━━━━━\u001b[0m\u001b[37m\u001b[0m \u001b[1m0s\u001b[0m 47ms/step - accuracy: 0.6354 - loss: 0.4463 - val_accuracy: 0.7917 - val_loss: 0.2829\n",
      "Epoch 6/40\n",
      "\u001b[1m2/2\u001b[0m \u001b[32m━━━━━━━━━━━━━━━━━━━━\u001b[0m\u001b[37m\u001b[0m \u001b[1m0s\u001b[0m 47ms/step - accuracy: 0.6354 - loss: 0.4432 - val_accuracy: 0.7917 - val_loss: 0.2767\n",
      "Epoch 7/40\n",
      "\u001b[1m2/2\u001b[0m \u001b[32m━━━━━━━━━━━━━━━━━━━━\u001b[0m\u001b[37m\u001b[0m \u001b[1m0s\u001b[0m 47ms/step - accuracy: 0.6354 - loss: 0.4432 - val_accuracy: 0.7917 - val_loss: 0.2767\n",
      "Epoch 7/40\n",
      "\u001b[1m2/2\u001b[0m \u001b[32m━━━━━━━━━━━━━━━━━━━━\u001b[0m\u001b[37m\u001b[0m \u001b[1m0s\u001b[0m 44ms/step - accuracy: 0.6354 - loss: 0.4387 - val_accuracy: 0.7917 - val_loss: 0.2722\n",
      "Epoch 8/40\n",
      "\u001b[1m2/2\u001b[0m \u001b[32m━━━━━━━━━━━━━━━━━━━━\u001b[0m\u001b[37m\u001b[0m \u001b[1m0s\u001b[0m 44ms/step - accuracy: 0.6354 - loss: 0.4387 - val_accuracy: 0.7917 - val_loss: 0.2722\n",
      "Epoch 8/40\n",
      "\u001b[1m2/2\u001b[0m \u001b[32m━━━━━━━━━━━━━━━━━━━━\u001b[0m\u001b[37m\u001b[0m \u001b[1m0s\u001b[0m 44ms/step - accuracy: 0.6354 - loss: 0.4320 - val_accuracy: 0.7917 - val_loss: 0.2683\n",
      "Epoch 9/40\n",
      "\u001b[1m2/2\u001b[0m \u001b[32m━━━━━━━━━━━━━━━━━━━━\u001b[0m\u001b[37m\u001b[0m \u001b[1m0s\u001b[0m 44ms/step - accuracy: 0.6354 - loss: 0.4320 - val_accuracy: 0.7917 - val_loss: 0.2683\n",
      "Epoch 9/40\n",
      "\u001b[1m2/2\u001b[0m \u001b[32m━━━━━━━━━━━━━━━━━━━━\u001b[0m\u001b[37m\u001b[0m \u001b[1m0s\u001b[0m 52ms/step - accuracy: 0.6354 - loss: 0.4237 - val_accuracy: 0.7917 - val_loss: 0.2654\n",
      "Epoch 10/40\n",
      "\u001b[1m2/2\u001b[0m \u001b[32m━━━━━━━━━━━━━━━━━━━━\u001b[0m\u001b[37m\u001b[0m \u001b[1m0s\u001b[0m 52ms/step - accuracy: 0.6354 - loss: 0.4237 - val_accuracy: 0.7917 - val_loss: 0.2654\n",
      "Epoch 10/40\n",
      "\u001b[1m2/2\u001b[0m \u001b[32m━━━━━━━━━━━━━━━━━━━━\u001b[0m\u001b[37m\u001b[0m \u001b[1m0s\u001b[0m 50ms/step - accuracy: 0.6354 - loss: 0.4138 - val_accuracy: 0.7917 - val_loss: 0.2634\n",
      "Epoch 11/40\n",
      "\u001b[1m2/2\u001b[0m \u001b[32m━━━━━━━━━━━━━━━━━━━━\u001b[0m\u001b[37m\u001b[0m \u001b[1m0s\u001b[0m 50ms/step - accuracy: 0.6354 - loss: 0.4138 - val_accuracy: 0.7917 - val_loss: 0.2634\n",
      "Epoch 11/40\n",
      "\u001b[1m2/2\u001b[0m \u001b[32m━━━━━━━━━━━━━━━━━━━━\u001b[0m\u001b[37m\u001b[0m \u001b[1m0s\u001b[0m 59ms/step - accuracy: 0.6354 - loss: 0.4046 - val_accuracy: 0.7917 - val_loss: 0.2625\n",
      "Epoch 12/40\n",
      "\u001b[1m2/2\u001b[0m \u001b[32m━━━━━━━━━━━━━━━━━━━━\u001b[0m\u001b[37m\u001b[0m \u001b[1m0s\u001b[0m 59ms/step - accuracy: 0.6354 - loss: 0.4046 - val_accuracy: 0.7917 - val_loss: 0.2625\n",
      "Epoch 12/40\n",
      "\u001b[1m2/2\u001b[0m \u001b[32m━━━━━━━━━━━━━━━━━━━━\u001b[0m\u001b[37m\u001b[0m \u001b[1m0s\u001b[0m 42ms/step - accuracy: 0.6354 - loss: 0.3950 - val_accuracy: 0.7917 - val_loss: 0.2616\n",
      "Epoch 13/40\n",
      "\u001b[1m2/2\u001b[0m \u001b[32m━━━━━━━━━━━━━━━━━━━━\u001b[0m\u001b[37m\u001b[0m \u001b[1m0s\u001b[0m 42ms/step - accuracy: 0.6354 - loss: 0.3950 - val_accuracy: 0.7917 - val_loss: 0.2616\n",
      "Epoch 13/40\n",
      "\u001b[1m2/2\u001b[0m \u001b[32m━━━━━━━━━━━━━━━━━━━━\u001b[0m\u001b[37m\u001b[0m \u001b[1m0s\u001b[0m 43ms/step - accuracy: 0.6354 - loss: 0.3879 - val_accuracy: 0.7917 - val_loss: 0.2609\n",
      "Epoch 14/40\n",
      "\u001b[1m2/2\u001b[0m \u001b[32m━━━━━━━━━━━━━━━━━━━━\u001b[0m\u001b[37m\u001b[0m \u001b[1m0s\u001b[0m 43ms/step - accuracy: 0.6354 - loss: 0.3879 - val_accuracy: 0.7917 - val_loss: 0.2609\n",
      "Epoch 14/40\n",
      "\u001b[1m2/2\u001b[0m \u001b[32m━━━━━━━━━━━━━━━━━━━━\u001b[0m\u001b[37m\u001b[0m \u001b[1m0s\u001b[0m 45ms/step - accuracy: 0.6354 - loss: 0.3803 - val_accuracy: 0.7917 - val_loss: 0.2575\n",
      "Epoch 15/40\n",
      "\u001b[1m2/2\u001b[0m \u001b[32m━━━━━━━━━━━━━━━━━━━━\u001b[0m\u001b[37m\u001b[0m \u001b[1m0s\u001b[0m 45ms/step - accuracy: 0.6354 - loss: 0.3803 - val_accuracy: 0.7917 - val_loss: 0.2575\n",
      "Epoch 15/40\n",
      "\u001b[1m2/2\u001b[0m \u001b[32m━━━━━━━━━━━━━━━━━━━━\u001b[0m\u001b[37m\u001b[0m \u001b[1m0s\u001b[0m 44ms/step - accuracy: 0.6458 - loss: 0.3721 - val_accuracy: 0.7917 - val_loss: 0.2512\n",
      "Epoch 16/40\n",
      "\u001b[1m2/2\u001b[0m \u001b[32m━━━━━━━━━━━━━━━━━━━━\u001b[0m\u001b[37m\u001b[0m \u001b[1m0s\u001b[0m 44ms/step - accuracy: 0.6458 - loss: 0.3721 - val_accuracy: 0.7917 - val_loss: 0.2512\n",
      "Epoch 16/40\n",
      "\u001b[1m2/2\u001b[0m \u001b[32m━━━━━━━━━━━━━━━━━━━━\u001b[0m\u001b[37m\u001b[0m \u001b[1m0s\u001b[0m 44ms/step - accuracy: 0.6562 - loss: 0.3624 - val_accuracy: 0.8333 - val_loss: 0.2427\n",
      "Epoch 17/40\n",
      "\u001b[1m2/2\u001b[0m \u001b[32m━━━━━━━━━━━━━━━━━━━━\u001b[0m\u001b[37m\u001b[0m \u001b[1m0s\u001b[0m 44ms/step - accuracy: 0.6562 - loss: 0.3624 - val_accuracy: 0.8333 - val_loss: 0.2427\n",
      "Epoch 17/40\n",
      "\u001b[1m2/2\u001b[0m \u001b[32m━━━━━━━━━━━━━━━━━━━━\u001b[0m\u001b[37m\u001b[0m \u001b[1m0s\u001b[0m 43ms/step - accuracy: 0.6771 - loss: 0.3522 - val_accuracy: 0.8750 - val_loss: 0.2327\n",
      "Epoch 18/40\n",
      "\u001b[1m2/2\u001b[0m \u001b[32m━━━━━━━━━━━━━━━━━━━━\u001b[0m\u001b[37m\u001b[0m \u001b[1m0s\u001b[0m 43ms/step - accuracy: 0.6771 - loss: 0.3522 - val_accuracy: 0.8750 - val_loss: 0.2327\n",
      "Epoch 18/40\n",
      "\u001b[1m2/2\u001b[0m \u001b[32m━━━━━━━━━━━━━━━━━━━━\u001b[0m\u001b[37m\u001b[0m \u001b[1m0s\u001b[0m 45ms/step - accuracy: 0.6875 - loss: 0.3406 - val_accuracy: 0.9167 - val_loss: 0.2214\n",
      "Epoch 19/40\n",
      "\u001b[1m2/2\u001b[0m \u001b[32m━━━━━━━━━━━━━━━━━━━━\u001b[0m\u001b[37m\u001b[0m \u001b[1m0s\u001b[0m 45ms/step - accuracy: 0.6875 - loss: 0.3406 - val_accuracy: 0.9167 - val_loss: 0.2214\n",
      "Epoch 19/40\n",
      "\u001b[1m2/2\u001b[0m \u001b[32m━━━━━━━━━━━━━━━━━━━━\u001b[0m\u001b[37m\u001b[0m \u001b[1m0s\u001b[0m 50ms/step - accuracy: 0.7812 - loss: 0.3296 - val_accuracy: 0.9167 - val_loss: 0.2102\n",
      "Epoch 20/40\n",
      "\u001b[1m2/2\u001b[0m \u001b[32m━━━━━━━━━━━━━━━━━━━━\u001b[0m\u001b[37m\u001b[0m \u001b[1m0s\u001b[0m 50ms/step - accuracy: 0.7812 - loss: 0.3296 - val_accuracy: 0.9167 - val_loss: 0.2102\n",
      "Epoch 20/40\n",
      "\u001b[1m2/2\u001b[0m \u001b[32m━━━━━━━━━━━━━━━━━━━━\u001b[0m\u001b[37m\u001b[0m \u001b[1m0s\u001b[0m 48ms/step - accuracy: 0.8646 - loss: 0.3180 - val_accuracy: 0.9583 - val_loss: 0.2003\n",
      "Epoch 21/40\n",
      "\u001b[1m2/2\u001b[0m \u001b[32m━━━━━━━━━━━━━━━━━━━━\u001b[0m\u001b[37m\u001b[0m \u001b[1m0s\u001b[0m 48ms/step - accuracy: 0.8646 - loss: 0.3180 - val_accuracy: 0.9583 - val_loss: 0.2003\n",
      "Epoch 21/40\n",
      "\u001b[1m2/2\u001b[0m \u001b[32m━━━━━━━━━━━━━━━━━━━━\u001b[0m\u001b[37m\u001b[0m \u001b[1m0s\u001b[0m 46ms/step - accuracy: 0.8854 - loss: 0.3057 - val_accuracy: 0.9583 - val_loss: 0.1913\n",
      "Epoch 22/40\n",
      "\u001b[1m2/2\u001b[0m \u001b[32m━━━━━━━━━━━━━━━━━━━━\u001b[0m\u001b[37m\u001b[0m \u001b[1m0s\u001b[0m 46ms/step - accuracy: 0.8854 - loss: 0.3057 - val_accuracy: 0.9583 - val_loss: 0.1913\n",
      "Epoch 22/40\n",
      "\u001b[1m2/2\u001b[0m \u001b[32m━━━━━━━━━━━━━━━━━━━━\u001b[0m\u001b[37m\u001b[0m \u001b[1m0s\u001b[0m 53ms/step - accuracy: 0.9271 - loss: 0.2927 - val_accuracy: 0.9583 - val_loss: 0.1835\n",
      "Epoch 23/40\n",
      "\u001b[1m2/2\u001b[0m \u001b[32m━━━━━━━━━━━━━━━━━━━━\u001b[0m\u001b[37m\u001b[0m \u001b[1m0s\u001b[0m 53ms/step - accuracy: 0.9271 - loss: 0.2927 - val_accuracy: 0.9583 - val_loss: 0.1835\n",
      "Epoch 23/40\n",
      "\u001b[1m2/2\u001b[0m \u001b[32m━━━━━━━━━━━━━━━━━━━━\u001b[0m\u001b[37m\u001b[0m \u001b[1m0s\u001b[0m 45ms/step - accuracy: 0.9375 - loss: 0.2805 - val_accuracy: 0.9583 - val_loss: 0.1764\n",
      "Epoch 24/40\n",
      "\u001b[1m2/2\u001b[0m \u001b[32m━━━━━━━━━━━━━━━━━━━━\u001b[0m\u001b[37m\u001b[0m \u001b[1m0s\u001b[0m 45ms/step - accuracy: 0.9375 - loss: 0.2805 - val_accuracy: 0.9583 - val_loss: 0.1764\n",
      "Epoch 24/40\n",
      "\u001b[1m2/2\u001b[0m \u001b[32m━━━━━━━━━━━━━━━━━━━━\u001b[0m\u001b[37m\u001b[0m \u001b[1m0s\u001b[0m 43ms/step - accuracy: 0.9479 - loss: 0.2675 - val_accuracy: 1.0000 - val_loss: 0.1695\n",
      "Epoch 25/40\n",
      "\u001b[1m2/2\u001b[0m \u001b[32m━━━━━━━━━━━━━━━━━━━━\u001b[0m\u001b[37m\u001b[0m \u001b[1m0s\u001b[0m 43ms/step - accuracy: 0.9479 - loss: 0.2675 - val_accuracy: 1.0000 - val_loss: 0.1695\n",
      "Epoch 25/40\n",
      "\u001b[1m2/2\u001b[0m \u001b[32m━━━━━━━━━━━━━━━━━━━━\u001b[0m\u001b[37m\u001b[0m \u001b[1m0s\u001b[0m 43ms/step - accuracy: 0.9792 - loss: 0.2533 - val_accuracy: 1.0000 - val_loss: 0.1605\n",
      "Epoch 26/40\n",
      "\u001b[1m2/2\u001b[0m \u001b[32m━━━━━━━━━━━━━━━━━━━━\u001b[0m\u001b[37m\u001b[0m \u001b[1m0s\u001b[0m 43ms/step - accuracy: 0.9792 - loss: 0.2533 - val_accuracy: 1.0000 - val_loss: 0.1605\n",
      "Epoch 26/40\n",
      "\u001b[1m2/2\u001b[0m \u001b[32m━━━━━━━━━━━━━━━━━━━━\u001b[0m\u001b[37m\u001b[0m \u001b[1m0s\u001b[0m 47ms/step - accuracy: 0.9792 - loss: 0.2404 - val_accuracy: 1.0000 - val_loss: 0.1504\n",
      "Epoch 27/40\n",
      "\u001b[1m2/2\u001b[0m \u001b[32m━━━━━━━━━━━━━━━━━━━━\u001b[0m\u001b[37m\u001b[0m \u001b[1m0s\u001b[0m 47ms/step - accuracy: 0.9792 - loss: 0.2404 - val_accuracy: 1.0000 - val_loss: 0.1504\n",
      "Epoch 27/40\n",
      "\u001b[1m2/2\u001b[0m \u001b[32m━━━━━━━━━━━━━━━━━━━━\u001b[0m\u001b[37m\u001b[0m \u001b[1m0s\u001b[0m 58ms/step - accuracy: 0.9792 - loss: 0.2279 - val_accuracy: 1.0000 - val_loss: 0.1404\n",
      "Epoch 28/40\n",
      "\u001b[1m2/2\u001b[0m \u001b[32m━━━━━━━━━━━━━━━━━━━━\u001b[0m\u001b[37m\u001b[0m \u001b[1m0s\u001b[0m 58ms/step - accuracy: 0.9792 - loss: 0.2279 - val_accuracy: 1.0000 - val_loss: 0.1404\n",
      "Epoch 28/40\n",
      "\u001b[1m2/2\u001b[0m \u001b[32m━━━━━━━━━━━━━━━━━━━━\u001b[0m\u001b[37m\u001b[0m \u001b[1m0s\u001b[0m 45ms/step - accuracy: 0.9792 - loss: 0.2147 - val_accuracy: 1.0000 - val_loss: 0.1299\n",
      "Epoch 29/40\n",
      "\u001b[1m2/2\u001b[0m \u001b[32m━━━━━━━━━━━━━━━━━━━━\u001b[0m\u001b[37m\u001b[0m \u001b[1m0s\u001b[0m 45ms/step - accuracy: 0.9792 - loss: 0.2147 - val_accuracy: 1.0000 - val_loss: 0.1299\n",
      "Epoch 29/40\n",
      "\u001b[1m2/2\u001b[0m \u001b[32m━━━━━━━━━━━━━━━━━━━━\u001b[0m\u001b[37m\u001b[0m \u001b[1m0s\u001b[0m 45ms/step - accuracy: 0.9792 - loss: 0.2019 - val_accuracy: 1.0000 - val_loss: 0.1205\n",
      "Epoch 30/40\n",
      "\u001b[1m2/2\u001b[0m \u001b[32m━━━━━━━━━━━━━━━━━━━━\u001b[0m\u001b[37m\u001b[0m \u001b[1m0s\u001b[0m 45ms/step - accuracy: 0.9792 - loss: 0.2019 - val_accuracy: 1.0000 - val_loss: 0.1205\n",
      "Epoch 30/40\n",
      "\u001b[1m2/2\u001b[0m \u001b[32m━━━━━━━━━━━━━━━━━━━━\u001b[0m\u001b[37m\u001b[0m \u001b[1m0s\u001b[0m 47ms/step - accuracy: 0.9792 - loss: 0.1894 - val_accuracy: 1.0000 - val_loss: 0.1121\n",
      "Epoch 31/40\n",
      "\u001b[1m2/2\u001b[0m \u001b[32m━━━━━━━━━━━━━━━━━━━━\u001b[0m\u001b[37m\u001b[0m \u001b[1m0s\u001b[0m 47ms/step - accuracy: 0.9792 - loss: 0.1894 - val_accuracy: 1.0000 - val_loss: 0.1121\n",
      "Epoch 31/40\n",
      "\u001b[1m2/2\u001b[0m \u001b[32m━━━━━━━━━━━━━━━━━━━━\u001b[0m\u001b[37m\u001b[0m \u001b[1m0s\u001b[0m 43ms/step - accuracy: 0.9896 - loss: 0.1775 - val_accuracy: 1.0000 - val_loss: 0.1047\n",
      "Epoch 32/40\n",
      "\u001b[1m2/2\u001b[0m \u001b[32m━━━━━━━━━━━━━━━━━━━━\u001b[0m\u001b[37m\u001b[0m \u001b[1m0s\u001b[0m 43ms/step - accuracy: 0.9896 - loss: 0.1775 - val_accuracy: 1.0000 - val_loss: 0.1047\n",
      "Epoch 32/40\n",
      "\u001b[1m2/2\u001b[0m \u001b[32m━━━━━━━━━━━━━━━━━━━━\u001b[0m\u001b[37m\u001b[0m \u001b[1m0s\u001b[0m 47ms/step - accuracy: 0.9896 - loss: 0.1654 - val_accuracy: 1.0000 - val_loss: 0.0974\n",
      "Epoch 33/40\n",
      "\u001b[1m2/2\u001b[0m \u001b[32m━━━━━━━━━━━━━━━━━━━━\u001b[0m\u001b[37m\u001b[0m \u001b[1m0s\u001b[0m 47ms/step - accuracy: 0.9896 - loss: 0.1654 - val_accuracy: 1.0000 - val_loss: 0.0974\n",
      "Epoch 33/40\n",
      "\u001b[1m2/2\u001b[0m \u001b[32m━━━━━━━━━━━━━━━━━━━━\u001b[0m\u001b[37m\u001b[0m \u001b[1m0s\u001b[0m 44ms/step - accuracy: 0.9896 - loss: 0.1543 - val_accuracy: 1.0000 - val_loss: 0.0906\n",
      "Epoch 34/40\n",
      "\u001b[1m2/2\u001b[0m \u001b[32m━━━━━━━━━━━━━━━━━━━━\u001b[0m\u001b[37m\u001b[0m \u001b[1m0s\u001b[0m 44ms/step - accuracy: 0.9896 - loss: 0.1543 - val_accuracy: 1.0000 - val_loss: 0.0906\n",
      "Epoch 34/40\n",
      "\u001b[1m2/2\u001b[0m \u001b[32m━━━━━━━━━━━━━━━━━━━━\u001b[0m\u001b[37m\u001b[0m \u001b[1m0s\u001b[0m 47ms/step - accuracy: 0.9896 - loss: 0.1434 - val_accuracy: 1.0000 - val_loss: 0.0841\n",
      "Epoch 35/40\n",
      "\u001b[1m2/2\u001b[0m \u001b[32m━━━━━━━━━━━━━━━━━━━━\u001b[0m\u001b[37m\u001b[0m \u001b[1m0s\u001b[0m 47ms/step - accuracy: 0.9896 - loss: 0.1434 - val_accuracy: 1.0000 - val_loss: 0.0841\n",
      "Epoch 35/40\n",
      "\u001b[1m2/2\u001b[0m \u001b[32m━━━━━━━━━━━━━━━━━━━━\u001b[0m\u001b[37m\u001b[0m \u001b[1m0s\u001b[0m 45ms/step - accuracy: 0.9896 - loss: 0.1328 - val_accuracy: 1.0000 - val_loss: 0.0775\n",
      "Epoch 36/40\n",
      "\u001b[1m2/2\u001b[0m \u001b[32m━━━━━━━━━━━━━━━━━━━━\u001b[0m\u001b[37m\u001b[0m \u001b[1m0s\u001b[0m 45ms/step - accuracy: 0.9896 - loss: 0.1328 - val_accuracy: 1.0000 - val_loss: 0.0775\n",
      "Epoch 36/40\n",
      "\u001b[1m2/2\u001b[0m \u001b[32m━━━━━━━━━━━━━━━━━━━━\u001b[0m\u001b[37m\u001b[0m \u001b[1m0s\u001b[0m 43ms/step - accuracy: 1.0000 - loss: 0.1231 - val_accuracy: 1.0000 - val_loss: 0.0715\n",
      "Epoch 37/40\n",
      "\u001b[1m2/2\u001b[0m \u001b[32m━━━━━━━━━━━━━━━━━━━━\u001b[0m\u001b[37m\u001b[0m \u001b[1m0s\u001b[0m 43ms/step - accuracy: 1.0000 - loss: 0.1231 - val_accuracy: 1.0000 - val_loss: 0.0715\n",
      "Epoch 37/40\n",
      "\u001b[1m2/2\u001b[0m \u001b[32m━━━━━━━━━━━━━━━━━━━━\u001b[0m\u001b[37m\u001b[0m \u001b[1m0s\u001b[0m 46ms/step - accuracy: 1.0000 - loss: 0.1141 - val_accuracy: 1.0000 - val_loss: 0.0659\n",
      "Epoch 38/40\n",
      "\u001b[1m2/2\u001b[0m \u001b[32m━━━━━━━━━━━━━━━━━━━━\u001b[0m\u001b[37m\u001b[0m \u001b[1m0s\u001b[0m 46ms/step - accuracy: 1.0000 - loss: 0.1141 - val_accuracy: 1.0000 - val_loss: 0.0659\n",
      "Epoch 38/40\n",
      "\u001b[1m2/2\u001b[0m \u001b[32m━━━━━━━━━━━━━━━━━━━━\u001b[0m\u001b[37m\u001b[0m \u001b[1m0s\u001b[0m 52ms/step - accuracy: 1.0000 - loss: 0.1058 - val_accuracy: 1.0000 - val_loss: 0.0606\n",
      "Epoch 39/40\n",
      "\u001b[1m2/2\u001b[0m \u001b[32m━━━━━━━━━━━━━━━━━━━━\u001b[0m\u001b[37m\u001b[0m \u001b[1m0s\u001b[0m 52ms/step - accuracy: 1.0000 - loss: 0.1058 - val_accuracy: 1.0000 - val_loss: 0.0606\n",
      "Epoch 39/40\n",
      "\u001b[1m2/2\u001b[0m \u001b[32m━━━━━━━━━━━━━━━━━━━━\u001b[0m\u001b[37m\u001b[0m \u001b[1m0s\u001b[0m 49ms/step - accuracy: 1.0000 - loss: 0.0978 - val_accuracy: 1.0000 - val_loss: 0.0560\n",
      "Epoch 40/40\n",
      "\u001b[1m2/2\u001b[0m \u001b[32m━━━━━━━━━━━━━━━━━━━━\u001b[0m\u001b[37m\u001b[0m \u001b[1m0s\u001b[0m 49ms/step - accuracy: 1.0000 - loss: 0.0978 - val_accuracy: 1.0000 - val_loss: 0.0560\n",
      "Epoch 40/40\n",
      "\u001b[1m2/2\u001b[0m \u001b[32m━━━━━━━━━━━━━━━━━━━━\u001b[0m\u001b[37m\u001b[0m \u001b[1m0s\u001b[0m 49ms/step - accuracy: 1.0000 - loss: 0.0905 - val_accuracy: 1.0000 - val_loss: 0.0516\n",
      "\u001b[1m2/2\u001b[0m \u001b[32m━━━━━━━━━━━━━━━━━━━━\u001b[0m\u001b[37m\u001b[0m \u001b[1m0s\u001b[0m 49ms/step - accuracy: 1.0000 - loss: 0.0905 - val_accuracy: 1.0000 - val_loss: 0.0516\n"
     ]
    },
    {
     "data": {
      "text/plain": [
       "<keras.src.callbacks.history.History at 0x25557dc63c0>"
      ]
     },
     "execution_count": 9,
     "metadata": {},
     "output_type": "execute_result"
    }
   ],
   "source": [
    "iris = load_iris()\n",
    "X = iris.data[:, (2, 3)]\n",
    "y = (iris.target == 0).astype(np.int64)\n",
    "\n",
    "X_train, X_test, y_train, y_test = train_test_split(X, y, test_size=0.2, random_state=42)\n",
    "\n",
    "model = Sequential([\n",
    "    layers.Dense(300, activation='relu', input_shape=(X_train.shape[1],)),\n",
    "    layers.Dense(100, activation='relu'),\n",
    "    layers.Dense(1, activation='sigmoid')\n",
    "])\n",
    "\n",
    "model.compile(optimizer='adam', loss='binary_crossentropy', metrics=['accuracy'])\n",
    "\n",
    "model.fit(X_train, y_train, epochs=40, batch_size=50, validation_split=0.2)"
   ]
  },
  {
   "cell_type": "code",
   "execution_count": 10,
   "id": "302b57da",
   "metadata": {},
   "outputs": [
    {
     "name": "stdout",
     "output_type": "stream",
     "text": [
      "\u001b[1m1/1\u001b[0m \u001b[32m━━━━━━━━━━━━━━━━━━━━\u001b[0m\u001b[37m\u001b[0m \u001b[1m0s\u001b[0m 45ms/step\n",
      "\u001b[1m1/1\u001b[0m \u001b[32m━━━━━━━━━━━━━━━━━━━━\u001b[0m\u001b[37m\u001b[0m \u001b[1m0s\u001b[0m 45ms/step\n"
     ]
    }
   ],
   "source": [
    "y_pred = model.predict(X_test)"
   ]
  },
  {
   "cell_type": "code",
   "execution_count": 11,
   "id": "0bd07ec8",
   "metadata": {},
   "outputs": [
    {
     "data": {
      "text/plain": [
       "1.0"
      ]
     },
     "execution_count": 11,
     "metadata": {},
     "output_type": "execute_result"
    }
   ],
   "source": [
    "y_pred_classes = (y_pred > 0.5).astype(int).flatten()\n",
    "\n",
    "accuracy_score(y_test, y_pred_classes)"
   ]
  },
  {
   "cell_type": "markdown",
   "id": "d0852509",
   "metadata": {},
   "source": [
    "Treinando um DNN utilizando um Tensorflow regular"
   ]
  },
  {
   "cell_type": "code",
   "execution_count": 12,
   "id": "b9db9da7",
   "metadata": {},
   "outputs": [],
   "source": [
    "n_inputs = 28*28\n",
    "n_hidden1 = 300\n",
    "n_hidden2 = 100\n",
    "n_outputs = 10"
   ]
  },
  {
   "cell_type": "code",
   "execution_count": 13,
   "id": "379f9300",
   "metadata": {},
   "outputs": [],
   "source": [
    "n_inputs = 28*28\n",
    "n_hidden1 = 300\n",
    "n_hidden2 = 100\n",
    "n_outputs = 10\n",
    "\n",
    "X = tf.keras.Input(shape=(n_inputs,), name=\"X\", dtype=tf.float32)\n",
    "y = tf.keras.Input(shape=(), name=\"y\", dtype=tf.int64)"
   ]
  },
  {
   "cell_type": "code",
   "execution_count": 14,
   "id": "239fe571",
   "metadata": {},
   "outputs": [],
   "source": [
    "def neuron_layer(X, n_neurons, name, activation=None):\n",
    "    with tf.name_scope(name):\n",
    "        n_inputs = int(X.shape[1])\n",
    "        stddev = 2 / np.sqrt(n_inputs)\n",
    "        init = tf.random.truncated_normal((n_inputs, n_neurons), stddev=stddev)\n",
    "        W = tf.Variable(init, name=\"weights\")\n",
    "        b = tf.Variable(tf.zeros([n_neurons]), name=\"biases\")\n",
    "        Z = tf.matmul(X, W) + b\n",
    "        if activation == \"relu\":\n",
    "            return tf.nn.relu(Z)\n",
    "        else:\n",
    "            return Z"
   ]
  },
  {
   "cell_type": "code",
   "execution_count": 15,
   "id": "0fe5c0a2",
   "metadata": {},
   "outputs": [],
   "source": [
    "with tf.name_scope(\"dnn\"):\n",
    "    hidden1 = layers.Dense(n_hidden1, activation=\"relu\", name=\"hidden1\")(X)\n",
    "    hidden2 = layers.Dense(n_hidden2, activation=\"relu\", name=\"hidden2\")(hidden1)\n",
    "    logits = layers.Dense(n_outputs, name=\"outputs\")(hidden2)\n"
   ]
  },
  {
   "cell_type": "code",
   "execution_count": 16,
   "id": "78399240",
   "metadata": {},
   "outputs": [
    {
     "name": "stdout",
     "output_type": "stream",
     "text": [
      "WARNING:tensorflow:From c:\\Users\\andre\\AppData\\Local\\Programs\\Python\\Python313\\Lib\\site-packages\\keras\\src\\backend\\tensorflow\\core.py:232: The name tf.placeholder is deprecated. Please use tf.compat.v1.placeholder instead.\n",
      "\n"
     ]
    }
   ],
   "source": [
    "with tf.name_scope(\"loss\"):\n",
    "    loss_layer = tf.keras.layers.Lambda(lambda inputs: tf.reduce_mean(\n",
    "        tf.keras.losses.sparse_categorical_crossentropy(inputs[0], inputs[1], from_logits=True)), name=\"loss_layer\")\n",
    "    loss = loss_layer([y, logits])"
   ]
  },
  {
   "cell_type": "code",
   "execution_count": 17,
   "id": "9ba5c44e",
   "metadata": {},
   "outputs": [],
   "source": [
    "learning_rate = 0.01\n",
    "\n",
    "trainable_vars = []\n",
    "for var in tf.compat.v1.global_variables():\n",
    "    if 'weights' in var.name or 'biases' in var.name:\n",
    "        trainable_vars.append(var)\n",
    "\n",
    "with tf.name_scope(\"train\"):\n",
    "    optimizer = tf.keras.optimizers.SGD(learning_rate)\n",
    "\n",
    "    @tf.function\n",
    "    def training_op():\n",
    "        with tf.GradientTape() as tape:\n",
    "            current_loss = loss\n",
    "        gradients = tape.gradient(current_loss, trainable_vars)\n",
    "        optimizer.apply_gradients(zip(gradients, trainable_vars))"
   ]
  },
  {
   "cell_type": "code",
   "execution_count": 18,
   "id": "8baaa5f7",
   "metadata": {},
   "outputs": [],
   "source": [
    "with tf.name_scope(\"eval\"):\n",
    "    correct = tf.keras.layers.Lambda(\n",
    "        lambda inputs: tf.cast(\n",
    "            tf.nn.in_top_k(predictions=inputs[0], targets=inputs[1], k=1), tf.float32),\n",
    "        output_shape=(None,)\n",
    "    )([logits, y])\n",
    "    accuracy = tf.keras.layers.Lambda(\n",
    "        lambda x: tf.reduce_mean(x),\n",
    "        output_shape=()\n",
    "    )(correct)"
   ]
  },
  {
   "cell_type": "code",
   "execution_count": 19,
   "id": "e5520fa2",
   "metadata": {},
   "outputs": [],
   "source": [
    "init = tf.compat.v1.global_variables_initializer()\n",
    "\n",
    "checkpoint = tf.train.Checkpoint(optimizer=optimizer, model=model)"
   ]
  },
  {
   "cell_type": "markdown",
   "id": "c399fadb",
   "metadata": {},
   "source": [
    "Fase execução"
   ]
  },
  {
   "cell_type": "code",
   "execution_count": 20,
   "id": "ea3975d8",
   "metadata": {},
   "outputs": [],
   "source": [
    "mnist = tf.keras.datasets.mnist"
   ]
  },
  {
   "cell_type": "code",
   "execution_count": 21,
   "id": "fd3e28b3",
   "metadata": {},
   "outputs": [],
   "source": [
    "n_epochs = 40\n",
    "batch_size = 50"
   ]
  },
  {
   "cell_type": "code",
   "execution_count": 24,
   "id": "6e068afc",
   "metadata": {},
   "outputs": [
    {
     "name": "stderr",
     "output_type": "stream",
     "text": [
      "c:\\Users\\andre\\AppData\\Local\\Programs\\Python\\Python313\\Lib\\site-packages\\keras\\src\\layers\\core\\dense.py:92: UserWarning: Do not pass an `input_shape`/`input_dim` argument to a layer. When using Sequential models, prefer using an `Input(shape)` object as the first layer in the model instead.\n",
      "  super().__init__(activity_regularizer=activity_regularizer, **kwargs)\n"
     ]
    },
    {
     "name": "stdout",
     "output_type": "stream",
     "text": [
      "Epoch 0: Train accuracy: 0.9800, Test accuracy: 0.9619\n",
      "Epoch 1: Train accuracy: 1.0000, Test accuracy: 0.9741\n",
      "Epoch 1: Train accuracy: 1.0000, Test accuracy: 0.9741\n",
      "Epoch 2: Train accuracy: 1.0000, Test accuracy: 0.9742\n",
      "Epoch 2: Train accuracy: 1.0000, Test accuracy: 0.9742\n",
      "Epoch 3: Train accuracy: 1.0000, Test accuracy: 0.9783\n",
      "Epoch 3: Train accuracy: 1.0000, Test accuracy: 0.9783\n",
      "Epoch 4: Train accuracy: 0.9800, Test accuracy: 0.9767\n",
      "Epoch 4: Train accuracy: 0.9800, Test accuracy: 0.9767\n",
      "Epoch 5: Train accuracy: 1.0000, Test accuracy: 0.9790\n",
      "Epoch 5: Train accuracy: 1.0000, Test accuracy: 0.9790\n",
      "Epoch 6: Train accuracy: 1.0000, Test accuracy: 0.9800\n",
      "Epoch 6: Train accuracy: 1.0000, Test accuracy: 0.9800\n",
      "Epoch 7: Train accuracy: 1.0000, Test accuracy: 0.9785\n",
      "Epoch 7: Train accuracy: 1.0000, Test accuracy: 0.9785\n",
      "Epoch 8: Train accuracy: 1.0000, Test accuracy: 0.9814\n",
      "Epoch 8: Train accuracy: 1.0000, Test accuracy: 0.9814\n",
      "Epoch 9: Train accuracy: 0.9800, Test accuracy: 0.9778\n",
      "Epoch 9: Train accuracy: 0.9800, Test accuracy: 0.9778\n",
      "Epoch 10: Train accuracy: 1.0000, Test accuracy: 0.9801\n",
      "Epoch 10: Train accuracy: 1.0000, Test accuracy: 0.9801\n",
      "Epoch 11: Train accuracy: 0.9800, Test accuracy: 0.9805\n",
      "Epoch 11: Train accuracy: 0.9800, Test accuracy: 0.9805\n",
      "Epoch 12: Train accuracy: 1.0000, Test accuracy: 0.9818\n",
      "Epoch 12: Train accuracy: 1.0000, Test accuracy: 0.9818\n",
      "Epoch 13: Train accuracy: 1.0000, Test accuracy: 0.9780\n",
      "Epoch 13: Train accuracy: 1.0000, Test accuracy: 0.9780\n",
      "Epoch 14: Train accuracy: 1.0000, Test accuracy: 0.9797\n",
      "Epoch 14: Train accuracy: 1.0000, Test accuracy: 0.9797\n",
      "Epoch 15: Train accuracy: 1.0000, Test accuracy: 0.9808\n",
      "Epoch 15: Train accuracy: 1.0000, Test accuracy: 0.9808\n",
      "Epoch 16: Train accuracy: 1.0000, Test accuracy: 0.9828\n",
      "Epoch 16: Train accuracy: 1.0000, Test accuracy: 0.9828\n",
      "Epoch 17: Train accuracy: 0.9800, Test accuracy: 0.9785\n",
      "Epoch 17: Train accuracy: 0.9800, Test accuracy: 0.9785\n",
      "Epoch 18: Train accuracy: 1.0000, Test accuracy: 0.9803\n",
      "Epoch 18: Train accuracy: 1.0000, Test accuracy: 0.9803\n",
      "Epoch 19: Train accuracy: 1.0000, Test accuracy: 0.9809\n",
      "Epoch 19: Train accuracy: 1.0000, Test accuracy: 0.9809\n",
      "Epoch 20: Train accuracy: 1.0000, Test accuracy: 0.9813\n",
      "Epoch 20: Train accuracy: 1.0000, Test accuracy: 0.9813\n",
      "Epoch 21: Train accuracy: 1.0000, Test accuracy: 0.9795\n",
      "Epoch 21: Train accuracy: 1.0000, Test accuracy: 0.9795\n",
      "Epoch 22: Train accuracy: 1.0000, Test accuracy: 0.9797\n",
      "Epoch 22: Train accuracy: 1.0000, Test accuracy: 0.9797\n",
      "Epoch 23: Train accuracy: 1.0000, Test accuracy: 0.9814\n",
      "Epoch 23: Train accuracy: 1.0000, Test accuracy: 0.9814\n",
      "Epoch 24: Train accuracy: 1.0000, Test accuracy: 0.9797\n",
      "Epoch 24: Train accuracy: 1.0000, Test accuracy: 0.9797\n",
      "Epoch 25: Train accuracy: 1.0000, Test accuracy: 0.9825\n",
      "Epoch 25: Train accuracy: 1.0000, Test accuracy: 0.9825\n",
      "Epoch 26: Train accuracy: 1.0000, Test accuracy: 0.9812\n",
      "Epoch 26: Train accuracy: 1.0000, Test accuracy: 0.9812\n",
      "Epoch 27: Train accuracy: 1.0000, Test accuracy: 0.9811\n",
      "Epoch 27: Train accuracy: 1.0000, Test accuracy: 0.9811\n",
      "Epoch 28: Train accuracy: 1.0000, Test accuracy: 0.9808\n",
      "Epoch 28: Train accuracy: 1.0000, Test accuracy: 0.9808\n",
      "Epoch 29: Train accuracy: 1.0000, Test accuracy: 0.9815\n",
      "Epoch 29: Train accuracy: 1.0000, Test accuracy: 0.9815\n",
      "Epoch 30: Train accuracy: 1.0000, Test accuracy: 0.9801\n",
      "Epoch 30: Train accuracy: 1.0000, Test accuracy: 0.9801\n",
      "Epoch 31: Train accuracy: 1.0000, Test accuracy: 0.9779\n",
      "Epoch 31: Train accuracy: 1.0000, Test accuracy: 0.9779\n",
      "Epoch 32: Train accuracy: 1.0000, Test accuracy: 0.9819\n",
      "Epoch 32: Train accuracy: 1.0000, Test accuracy: 0.9819\n",
      "Epoch 33: Train accuracy: 1.0000, Test accuracy: 0.9769\n",
      "Epoch 33: Train accuracy: 1.0000, Test accuracy: 0.9769\n",
      "Epoch 34: Train accuracy: 1.0000, Test accuracy: 0.9794\n",
      "Epoch 34: Train accuracy: 1.0000, Test accuracy: 0.9794\n",
      "Epoch 35: Train accuracy: 1.0000, Test accuracy: 0.9839\n",
      "Epoch 35: Train accuracy: 1.0000, Test accuracy: 0.9839\n",
      "Epoch 36: Train accuracy: 1.0000, Test accuracy: 0.9800\n",
      "Epoch 36: Train accuracy: 1.0000, Test accuracy: 0.9800\n",
      "Epoch 37: Train accuracy: 1.0000, Test accuracy: 0.9825\n",
      "Epoch 37: Train accuracy: 1.0000, Test accuracy: 0.9825\n",
      "Epoch 38: Train accuracy: 1.0000, Test accuracy: 0.9806\n",
      "Epoch 38: Train accuracy: 1.0000, Test accuracy: 0.9806\n",
      "Epoch 39: Train accuracy: 1.0000, Test accuracy: 0.9784\n",
      "Epoch 39: Train accuracy: 1.0000, Test accuracy: 0.9784\n"
     ]
    }
   ],
   "source": [
    "# Definir o modelo Keras para MNIST (caso não esteja definido acima)\n",
    "model = tf.keras.Sequential([\n",
    "    tf.keras.layers.Dense(300, activation='relu', input_shape=(784,)),\n",
    "    tf.keras.layers.Dense(100, activation='relu'),\n",
    "    tf.keras.layers.Dense(10, activation='softmax')\n",
    "])\n",
    "\n",
    "model.compile(optimizer='adam',\n",
    "              loss='sparse_categorical_crossentropy',\n",
    "              metrics=['accuracy'])\n",
    "\n",
    "# Treinamento manual em batches no estilo TF2.x para MNIST\n",
    "n_epochs = 40\n",
    "batch_size = 50\n",
    "(x_train, y_train), (x_test, y_test) = tf.keras.datasets.mnist.load_data()\n",
    "x_train = x_train.reshape(-1, 28*28).astype('float32') / 255.0\n",
    "x_test = x_test.reshape(-1, 28*28).astype('float32') / 255.0\n",
    "n_batches = len(x_train) // batch_size\n",
    "\n",
    "for epoch in range(n_epochs):\n",
    "    # Embaralhar os dados a cada época\n",
    "    indices = np.random.permutation(len(x_train))\n",
    "    x_train_shuffled = x_train[indices]\n",
    "    y_train_shuffled = y_train[indices]\n",
    "    \n",
    "    # Treinar em batches\n",
    "    for iteration in range(n_batches):\n",
    "        start = iteration * batch_size\n",
    "        end = start + batch_size\n",
    "        X_batch = x_train_shuffled[start:end]\n",
    "        y_batch = y_train_shuffled[start:end]\n",
    "        \n",
    "        # Treinar o modelo\n",
    "        model.train_on_batch(X_batch, y_batch)\n",
    "    \n",
    "    # Avaliar no final da época\n",
    "    train_loss, acc_train = model.evaluate(X_batch, y_batch, verbose=0)\n",
    "    test_loss, acc_test = model.evaluate(x_test, y_test, verbose=0)\n",
    "    \n",
    "    print(f\"Epoch {epoch}: Train accuracy: {acc_train:.4f}, Test accuracy: {acc_test:.4f}\")"
   ]
  },
  {
   "cell_type": "markdown",
   "id": "aafa964b",
   "metadata": {},
   "source": [
    "### Exercícios"
   ]
  },
  {
   "cell_type": "markdown",
   "id": "da834fa7",
   "metadata": {},
   "source": [
    "1. Desenhe uma RNA com a utilização dos neurônios artificias originais (como os da figura 10-3) que calcule A XOR B."
   ]
  },
  {
   "cell_type": "raw",
   "id": "ca17153e",
   "metadata": {
    "vscode": {
     "languageId": "ini"
    }
   },
   "source": [
    "   ENTRADAS                  NEURÔNIOS OCULTOS                 NEURÔNIO SAÍDA\n",
    "   \n",
    "   A ────╭─────► w=1 ────┐\n",
    "         │               ▼\n",
    "         │          ┌─────────┐\n",
    "         │          │   N1    │───► Saída N1 (A AND B)\n",
    "         │          │ θ = 1.5 │\n",
    "   B ────┼─────► w=1 ────┘     │\n",
    "         │                     │\n",
    "         │                     │\n",
    "         │          ┌─────────┐│\n",
    "         │          │   N2    ││\n",
    "         │          │ θ = 0.5 ││\n",
    "         └─────► w=1 ────┘     │\n",
    "                 │             │\n",
    "                 │             │\n",
    "                 │   w = -1    │   w = 1\n",
    "                 └─────────────┼───────┐\n",
    "                               ▼       │\n",
    "                         ┌─────────┐   │\n",
    "                         │  Saída  │◄──┘\n",
    "                         │ θ = 0.5 │\n",
    "                         └─────────┘\n",
    "                               │\n",
    "                               ▼\n",
    "                           XOR(A,B)"
   ]
  },
  {
   "cell_type": "markdown",
   "id": "6ab07080",
   "metadata": {},
   "source": [
    "2. Por que geralmente é preferível utilizar um classificador de Regressão Logística em vez de um Perceptron clássico (ou seja, uma única camada de unidades lineares com threshold treinadas com a atualização do algoritmo de treinamento Perceptron)? Como você pode ajustar um Perceptron para torná-lo equivalente a um classificador de Regressão Logística?"
   ]
  },
  {
   "cell_type": "markdown",
   "id": "11ea37e8",
   "metadata": {},
   "source": [
    "A Regressão Logística é geralmente preferida em relação ao Perceptron clássico porque:\n",
    "\n",
    "- **Probabilidades:** A Regressão Logística estima probabilidades de classe (valores contínuos entre 0 e 1), enquanto o Perceptron só fornece uma decisão binária (0 ou 1) baseada em um limiar rígido.\n",
    "- **Função de Custo Suave:** A Regressão Logística utiliza a função de custo log-loss (entropia cruzada), que é contínua e diferenciável, facilitando a otimização com métodos de gradiente. O Perceptron usa uma função de custo baseada em erro de classificação, que é não diferenciável e pode dificultar a convergência.\n",
    "- **Robustez:** A Regressão Logística é menos sensível a outliers e pode lidar melhor com dados não perfeitamente separáveis, pois penaliza exemplos mal classificados de forma gradual.\n",
    "- **Convergência:** O algoritmo de treinamento da Regressão Logística (gradiente descendente) tende a convergir para uma solução ótima global para problemas linearmente separáveis, enquanto o Perceptron pode não convergir se os dados não forem perfeitamente separáveis.\n",
    "\n",
    "Como ajustar um Perceptron para torná-lo equivalente à Regressão Logística?**\n",
    "\n",
    "- Substitua a função de ativação de limiar rígido (step function) do Perceptron pela função logística (sigmoide), que produz uma saída contínua entre 0 e 1.\n",
    "- Treine o modelo usando a função de custo log-loss (entropia cruzada) e otimize os pesos com gradiente descendente.\n",
    "\n",
    "Dessa forma, o Perceptron se torna matematicamente equivalente a um classificador de Regressão Logística."
   ]
  },
  {
   "cell_type": "markdown",
   "id": "5f632dd7",
   "metadata": {},
   "source": [
    "3.  Por que a função de ativação logística foi um ingrediente-chave na formação dos primeiros MLP's?"
   ]
  },
  {
   "cell_type": "markdown",
   "id": "4f427a5f",
   "metadata": {},
   "source": [
    "A função de ativação logística (sigmoide) foi um ingrediente-chave nos primeiros MLPs porque:\n",
    "\n",
    "- **Diferenciabilidade:** A função logística é contínua e diferenciável em todos os pontos, o que permite calcular gradientes necessários para o algoritmo de retropropagação (backpropagation). Sem uma função diferenciável, não seria possível ajustar os pesos das redes neurais usando métodos baseados em gradiente.\n",
    "- **Saída Suave:** Ela transforma a soma ponderada das entradas em uma saída suave entre 0 e 1, permitindo que a rede modele probabilidades e aprenda relações não-lineares.\n",
    "- **Quebra de Linearidade:** Ao contrário de funções de ativação de limiar rígido (step), a função logística introduz não-linearidade, permitindo que MLPs resolvam problemas que não são linearmente separáveis (como XOR).\n",
    "- **Estabilidade Numérica:** A função logística limita a saída, evitando valores extremos que poderiam causar instabilidade numérica durante o treinamento.\n",
    "\n",
    "Por esses motivos, a função logística tornou possível o treinamento eficiente de redes neurais multicamadas usando retropropagação, viabilizando o avanço do aprendizado profundo."
   ]
  },
  {
   "cell_type": "markdown",
   "id": "8b0c39f2",
   "metadata": {},
   "source": [
    "4. Nomeie três funções de ativação populares. Consegue denha-las?"
   ]
  },
  {
   "cell_type": "code",
   "execution_count": 34,
   "id": "a5742901",
   "metadata": {},
   "outputs": [
    {
     "data": {
      "image/png": "[encoded data removed]",
      "text/plain": [
       "<Figure size 1200x400 with 3 Axes>"
      ]
     },
     "metadata": {},
     "output_type": "display_data"
    }
   ],
   "source": [
    "x = np.linspace(-5, 5, 100)\n",
    "plt.figure(figsize=(12, 4))\n",
    "\n",
    "plt.subplot(131)\n",
    "plt.plot(x, 1/(1+np.exp(-x)), 'b-')\n",
    "plt.title('Sigmoid')\n",
    "\n",
    "plt.subplot(132)\n",
    "plt.plot(x, np.maximum(0, x), 'r-')\n",
    "plt.title('ReLU')\n",
    "\n",
    "plt.subplot(133)\n",
    "plt.plot(x, np.tanh(x), 'g-')\n",
    "plt.title('Tanh')\n",
    "\n",
    "plt.tight_layout()\n",
    "plt.show()"
   ]
  },
  {
   "cell_type": "markdown",
   "id": "8b20e33f",
   "metadata": {},
   "source": [
    "5. Suponha que você tenha um MLP composto de uma camada de entrada com 10 neurônios de passagem, seguido de uma camada oculta com 50 neurônios artificiais e, finalmente, uma camada de saída com 3 neurônios artificias. Todos os neurônios artificiais utilizam a função de ativação RelU.\n",
    "\n",
    "A) Qual é a forma da matriz de entrada *X*?\n",
    "\n",
    "B) O que dizer da forma do vetor de peso da camada oculta *Wh*, e da forma de seus vetores de polarização *b0*?\n",
    "\n",
    "C) Qual é a forma do vetor de peso *W0* da camada de saída e seu vetor de polarização *b0*?\n",
    "\n",
    "D) Qual é a forma da saída de rede da matriz *Y*?\n",
    "\n",
    "E) Escreva a equação que calcule a saída de rede da matriz *Y* como uma função de *X*, *Wh*, *bh*, *W0* e *b0*.\n",
    "\n",
    "F) Escreva a equação que calcule a saída de rede da matriz *Y* como função de *X*, *W*h, *b*h, *W*0 e *b*0."
   ]
  },
  {
   "cell_type": "markdown",
   "id": "14da80b3",
   "metadata": {},
   "source": [
    "- **A)** A matriz de entrada $\\mathbf{X}$ tem forma $(n_{samples},\\ 10)$.\n",
    "- **B)** A matriz de pesos da camada oculta $\\mathbf{W}_h$ tem forma $(10,\\ 50)$ e o vetor de polarização $\\mathbf{b}_h$ tem forma $(50,)$.\n",
    "- **C)** A matriz de pesos da camada de saída $\\mathbf{W}_0$ tem forma $(50,\\ 3)$ e o vetor de polarização $\\mathbf{b}_0$ tem forma $(3,)$.\n",
    "- **D)** A matriz de saída $\\mathbf{Y}$ tem forma $(n_{samples},\\ 3)$.\n",
    "\n",
    "**Equações:**\n",
    "\n",
    "- **E)** $$\\mathbf{H} = \\mathrm{ReLU}(\\mathbf{X} \\cdot \\mathbf{W}_h + \\mathbf{b}_h)$$\n",
    "- **F)** $$\\mathbf{Y} = \\mathrm{ReLU}(\\mathbf{H} \\cdot \\mathbf{W}_0 + \\mathbf{b}_0)$$\n",
    "- **F alternativa)** $$\\mathbf{Y} = \\mathrm{ReLU}(\\mathrm{ReLU}(\\mathbf{X} \\cdot \\mathbf{W}_h + \\mathbf{b}_h) \\cdot \\mathbf{W}_0 + \\mathbf{b}_0)$$"
   ]
  },
  {
   "cell_type": "markdown",
   "id": "64d313e4",
   "metadata": {},
   "source": [
    "6. De quantos neurônios você precisa na camada de saída se quiser classificar o e-mail como span ou não spam? Que função de ativação você deve utilizar na camada de saída? Se, em vez disso, você quiser abordar o MNIST, de quantos neurônios você precisa utilizando qual função de ativação na camada de saída?"
   ]
  },
  {
   "cell_type": "markdown",
   "id": "6354fb80",
   "metadata": {},
   "source": [
    "- **Classificação de e-mail (spam ou não spam):**\n",
    "    - **Número de neurônios na camada de saída:** 1 neurônio.\n",
    "    - **Função de ativação:** Sigmoide (`sigmoid`), pois queremos uma saída entre 0 e 1 para representar a probabilidade de ser spam.\n",
    "\n",
    "- **Classificação MNIST (10 dígitos):**\n",
    "    - **Número de neurônios na camada de saída:** 10 neurônios (um para cada classe de dígito de 0 a 9).\n",
    "    - **Função de ativação:** Softmax (`softmax`), pois queremos probabilidades para cada classe, garantindo que a soma das probabilidades seja 1."
   ]
  },
  {
   "cell_type": "markdown",
   "id": "cca98015",
   "metadata": {},
   "source": [
    "7. O que é retropropagação e como isso funciona? Qual é a diferença entre retropropagação e autodiff de modo reverso?"
   ]
  },
  {
   "cell_type": "markdown",
   "id": "342033c8",
   "metadata": {},
   "source": [
    "A retropropagação (backpropagation) é o algoritmo de treinamento específico para redes neurais artificiais que calcula o gradiente da função de custo em relação aos pesos da rede, permitindo sua atualização através de métodos como o gradiente descendente. Já a diferenciação automática no modo reverso (reverse-mode autodiff) é uma técnica matemática geral para cálculo eficiente de derivadas em grafos computacionais arbitrários usando a regra da cadeia.\n",
    "\n",
    "A diferença fundamental é que a retropropagação é uma aplicação específica do autodiff reverso projetada especificamente para redes neurais, incorporando conhecimento sobre a arquitetura de camadas, funções de ativação e o processo de treinamento. Em contraste, o autodiff reverso é um método genérico que pode ser aplicado a qualquer função representada como grafo computacional, independentemente de ser uma rede neural ou não.\n",
    "\n",
    "Em resumo: a retropropagação usa o autodiff reverso como ferramenta matemática, mas adiciona componentes específicos de redes neurais, como a estrutura de camadas e o mecanismo de atualização de pesos, enquanto o autodiff reverso é a técnica computacional subjacente para cálculo de derivadas."
   ]
  },
  {
   "cell_type": "markdown",
   "id": "d35cd46d",
   "metadata": {},
   "source": [
    "8. Você consegue listar todos os hiperparâmetros que podem ser ajustados em um MLP? Se o MLO se sobreajusta aos dados de treinamento, como ajustar esses hiperparâmetros para tentar resolver o problema?"
   ]
  },
  {
   "cell_type": "markdown",
   "id": "ca1fd56d",
   "metadata": {},
   "source": [
    "Um MLP possui diversos hiperparâmetros ajustáveis, que podem ser categorizados em arquiteturais (número de camadas e neurônios, funções de ativação, inicialização de pesos), de treinamento (taxa de aprendizado, tamanho do lote, número de épocas, algoritmo de otimização) e de regularização (dropout, regularização L1/L2, early stopping).\n",
    "\n",
    "Quando ocorre overfitting, onde o modelo performa bem nos dados de treinamento mas mal na validação, deve-se ajustar esses hiperparâmetros para reduzir a complexidade do modelo e aumentar a generalização. As principais estratégias incluem: aumentar a regularização (aumentar dropout e regularização L2), reduzir a capacidade do modelo (diminuir camadas e neurônios), aumentar o conjunto de treinamento com data augmentation, ajustar o processo de treinamento (reduzir épocas, ajustar learning rate) e aplicar técnicas avançadas como batch normalization.\n",
    "\n",
    "A abordagem ideal é começar com uma arquitetura simples e gradualmente aumentar a complexidade, monitorando sempre a diferença de performance entre treino e validação para encontrar o equilíbrio ideal entre capacidade do modelo e generalização."
   ]
  },
  {
   "cell_type": "markdown",
   "id": "44039988",
   "metadata": {},
   "source": [
    "9. Treine um MLP profundo no conjunto de dados MNIST e veja se consegue obter mais de 98% de precisão. Assim como no último exercício do capítulo 9, tente adicionar todos os extras(ou seja, salve os pontos de verificação, restaure o último ponto de verificação em caso de interrupção, adicione resumos, plote as curvas de aprendizado com a utilização do TensorBoard e assim por diante)."
   ]
  },
  {
   "cell_type": "code",
   "execution_count": null,
   "id": "2ffd866b",
   "metadata": {},
   "outputs": [
    {
     "name": "stdout",
     "output_type": "stream",
     "text": [
      "Treinando MLP...\n",
      "Epoch 1/30\n",
      "\u001b[1m422/422\u001b[0m \u001b[32m━━━━━━━━━━━━━━━━━━━━\u001b[0m\u001b[37m\u001b[0m \u001b[1m4s\u001b[0m 7ms/step - accuracy: 0.9037 - loss: 0.3120 - val_accuracy: 0.9655 - val_loss: 0.1092\n",
      "Epoch 2/30\n",
      "\u001b[1m422/422\u001b[0m \u001b[32m━━━━━━━━━━━━━━━━━━━━\u001b[0m\u001b[37m\u001b[0m \u001b[1m4s\u001b[0m 7ms/step - accuracy: 0.9037 - loss: 0.3120 - val_accuracy: 0.9655 - val_loss: 0.1092\n",
      "Epoch 2/30\n",
      "\u001b[1m422/422\u001b[0m \u001b[32m━━━━━━━━━━━━━━━━━━━━\u001b[0m\u001b[37m\u001b[0m \u001b[1m3s\u001b[0m 6ms/step - accuracy: 0.9594 - loss: 0.1353 - val_accuracy: 0.9757 - val_loss: 0.0782\n",
      "Epoch 3/30\n",
      "\u001b[1m422/422\u001b[0m \u001b[32m━━━━━━━━━━━━━━━━━━━━\u001b[0m\u001b[37m\u001b[0m \u001b[1m3s\u001b[0m 6ms/step - accuracy: 0.9594 - loss: 0.1353 - val_accuracy: 0.9757 - val_loss: 0.0782\n",
      "Epoch 3/30\n",
      "\u001b[1m422/422\u001b[0m \u001b[32m━━━━━━━━━━━━━━━━━━━━\u001b[0m\u001b[37m\u001b[0m \u001b[1m3s\u001b[0m 7ms/step - accuracy: 0.9683 - loss: 0.1004 - val_accuracy: 0.9770 - val_loss: 0.0763\n",
      "Epoch 4/30\n",
      "\u001b[1m422/422\u001b[0m \u001b[32m━━━━━━━━━━━━━━━━━━━━\u001b[0m\u001b[37m\u001b[0m \u001b[1m3s\u001b[0m 7ms/step - accuracy: 0.9683 - loss: 0.1004 - val_accuracy: 0.9770 - val_loss: 0.0763\n",
      "Epoch 4/30\n",
      "\u001b[1m422/422\u001b[0m \u001b[32m━━━━━━━━━━━━━━━━━━━━\u001b[0m\u001b[37m\u001b[0m \u001b[1m3s\u001b[0m 6ms/step - accuracy: 0.9751 - loss: 0.0807 - val_accuracy: 0.9800 - val_loss: 0.0665\n",
      "Epoch 5/30\n",
      "\u001b[1m422/422\u001b[0m \u001b[32m━━━━━━━━━━━━━━━━━━━━\u001b[0m\u001b[37m\u001b[0m \u001b[1m3s\u001b[0m 6ms/step - accuracy: 0.9751 - loss: 0.0807 - val_accuracy: 0.9800 - val_loss: 0.0665\n",
      "Epoch 5/30\n",
      "\u001b[1m422/422\u001b[0m \u001b[32m━━━━━━━━━━━━━━━━━━━━\u001b[0m\u001b[37m\u001b[0m \u001b[1m3s\u001b[0m 6ms/step - accuracy: 0.9782 - loss: 0.0699 - val_accuracy: 0.9835 - val_loss: 0.0555\n",
      "Epoch 6/30\n",
      "\u001b[1m422/422\u001b[0m \u001b[32m━━━━━━━━━━━━━━━━━━━━\u001b[0m\u001b[37m\u001b[0m \u001b[1m3s\u001b[0m 6ms/step - accuracy: 0.9782 - loss: 0.0699 - val_accuracy: 0.9835 - val_loss: 0.0555\n",
      "Epoch 6/30\n",
      "\u001b[1m422/422\u001b[0m \u001b[32m━━━━━━━━━━━━━━━━━━━━\u001b[0m\u001b[37m\u001b[0m \u001b[1m3s\u001b[0m 6ms/step - accuracy: 0.9809 - loss: 0.0612 - val_accuracy: 0.9848 - val_loss: 0.0540\n",
      "Epoch 7/30\n",
      "\u001b[1m422/422\u001b[0m \u001b[32m━━━━━━━━━━━━━━━━━━━━\u001b[0m\u001b[37m\u001b[0m \u001b[1m3s\u001b[0m 6ms/step - accuracy: 0.9809 - loss: 0.0612 - val_accuracy: 0.9848 - val_loss: 0.0540\n",
      "Epoch 7/30\n",
      "\u001b[1m422/422\u001b[0m \u001b[32m━━━━━━━━━━━━━━━━━━━━\u001b[0m\u001b[37m\u001b[0m \u001b[1m3s\u001b[0m 6ms/step - accuracy: 0.9825 - loss: 0.0550 - val_accuracy: 0.9798 - val_loss: 0.0713\n",
      "Epoch 8/30\n",
      "\u001b[1m422/422\u001b[0m \u001b[32m━━━━━━━━━━━━━━━━━━━━\u001b[0m\u001b[37m\u001b[0m \u001b[1m3s\u001b[0m 6ms/step - accuracy: 0.9825 - loss: 0.0550 - val_accuracy: 0.9798 - val_loss: 0.0713\n",
      "Epoch 8/30\n",
      "\u001b[1m422/422\u001b[0m \u001b[32m━━━━━━━━━━━━━━━━━━━━\u001b[0m\u001b[37m\u001b[0m \u001b[1m3s\u001b[0m 7ms/step - accuracy: 0.9846 - loss: 0.0499 - val_accuracy: 0.9832 - val_loss: 0.0626\n",
      "Epoch 9/30\n",
      "\u001b[1m422/422\u001b[0m \u001b[32m━━━━━━━━━━━━━━━━━━━━\u001b[0m\u001b[37m\u001b[0m \u001b[1m3s\u001b[0m 7ms/step - accuracy: 0.9846 - loss: 0.0499 - val_accuracy: 0.9832 - val_loss: 0.0626\n",
      "Epoch 9/30\n",
      "\u001b[1m422/422\u001b[0m \u001b[32m━━━━━━━━━━━━━━━━━━━━\u001b[0m\u001b[37m\u001b[0m \u001b[1m3s\u001b[0m 7ms/step - accuracy: 0.9852 - loss: 0.0455 - val_accuracy: 0.9832 - val_loss: 0.0643\n",
      "Epoch 10/30\n",
      "\u001b[1m422/422\u001b[0m \u001b[32m━━━━━━━━━━━━━━━━━━━━\u001b[0m\u001b[37m\u001b[0m \u001b[1m3s\u001b[0m 7ms/step - accuracy: 0.9852 - loss: 0.0455 - val_accuracy: 0.9832 - val_loss: 0.0643\n",
      "Epoch 10/30\n",
      "\u001b[1m422/422\u001b[0m \u001b[32m━━━━━━━━━━━━━━━━━━━━\u001b[0m\u001b[37m\u001b[0m \u001b[1m2s\u001b[0m 6ms/step - accuracy: 0.9857 - loss: 0.0443 - val_accuracy: 0.9813 - val_loss: 0.0744\n",
      "Epoch 11/30\n",
      "\u001b[1m422/422\u001b[0m \u001b[32m━━━━━━━━━━━━━━━━━━━━\u001b[0m\u001b[37m\u001b[0m \u001b[1m2s\u001b[0m 6ms/step - accuracy: 0.9857 - loss: 0.0443 - val_accuracy: 0.9813 - val_loss: 0.0744\n",
      "Epoch 11/30\n",
      "\u001b[1m422/422\u001b[0m \u001b[32m━━━━━━━━━━━━━━━━━━━━\u001b[0m\u001b[37m\u001b[0m \u001b[1m2s\u001b[0m 6ms/step - accuracy: 0.9873 - loss: 0.0398 - val_accuracy: 0.9817 - val_loss: 0.0648\n",
      "\u001b[1m422/422\u001b[0m \u001b[32m━━━━━━━━━━━━━━━━━━━━\u001b[0m\u001b[37m\u001b[0m \u001b[1m2s\u001b[0m 6ms/step - accuracy: 0.9873 - loss: 0.0398 - val_accuracy: 0.9817 - val_loss: 0.0648\n",
      "\n",
      "Precisão final no teste: 0.9807\n",
      "✅ Meta de 98% alcançada!\n",
      "\n",
      "Histórico de treino:\n",
      "Melhor val_accuracy: 0.9848\n",
      "\n",
      "Precisão final no teste: 0.9807\n",
      "✅ Meta de 98% alcançada!\n",
      "\n",
      "Histórico de treino:\n",
      "Melhor val_accuracy: 0.9848\n"
     ]
    }
   ],
   "source": [
    "# 1. Carregar e preparar dados\n",
    "(X_train, y_train), (X_test, y_test) = tf.keras.datasets.mnist.load_data()\n",
    "\n",
    "# Normalizar e redimensionar\n",
    "X_train = X_train.reshape(-1, 784).astype('float32') / 255.0\n",
    "X_test = X_test.reshape(-1, 784).astype('float32') / 255.0\n",
    "\n",
    "# 2. Criar modelo MLP profundo\n",
    "model = tf.keras.Sequential([\n",
    "    tf.keras.layers.Dense(512, activation='relu', input_shape=(784,)),\n",
    "    tf.keras.layers.Dropout(0.3),\n",
    "    tf.keras.layers.Dense(512, activation='relu'),\n",
    "    tf.keras.layers.Dropout(0.3),\n",
    "    tf.keras.layers.Dense(256, activation='relu'),\n",
    "    tf.keras.layers.Dropout(0.2),\n",
    "    tf.keras.layers.Dense(10, activation='softmax')\n",
    "])\n",
    "\n",
    "model.compile(\n",
    "    optimizer='adam',\n",
    "    loss='sparse_categorical_crossentropy',\n",
    "    metrics=['accuracy']\n",
    ")\n",
    "\n",
    "# 3. Configurar callback simples (apenas checkpoint)\n",
    "checkpoint_path = \"mnist_best_model.keras\"\n",
    "\n",
    "callbacks_list = [\n",
    "    tf.keras.callbacks.EarlyStopping(patience=5, restore_best_weights=True),\n",
    "    tf.keras.callbacks.ModelCheckpoint(\n",
    "        checkpoint_path, \n",
    "        save_best_only=True,\n",
    "        monitor='val_accuracy'\n",
    "    )\n",
    "]\n",
    "\n",
    "# 4. Treinar o modelo\n",
    "print(\"Treinando MLP...\")\n",
    "history = model.fit(\n",
    "    X_train, y_train,\n",
    "    batch_size=128,\n",
    "    epochs=30,\n",
    "    validation_split=0.1,\n",
    "    callbacks=callbacks_list,\n",
    "    verbose=1\n",
    ")\n",
    "\n",
    "# 5. Avaliar resultado final\n",
    "test_loss, test_acc = model.evaluate(X_test, y_test, verbose=0)\n",
    "print(f\"\\nPrecisão final no teste: {test_acc:.4f}\")\n",
    "\n",
    "if test_acc > 0.98:\n",
    "    print(\"✅ Meta de 98% alcançada!\")\n",
    "else:\n",
    "    print(\"❌ Meta não alcançada\")\n",
    "\n",
    "# 6. Mostrar histórico de treino\n",
    "print(\"\\nHistórico de treino:\")\n",
    "print(f\"Melhor val_accuracy: {max(history.history['val_accuracy']):.4f}\")"
   ]
  },
  {
   "cell_type": "code",
   "execution_count": 43,
   "id": "120a4d8e",
   "metadata": {},
   "outputs": [
    {
     "data": {
      "image/png": "[encoded data removed]",
      "text/plain": [
       "<Figure size 1200x400 with 2 Axes>"
      ]
     },
     "metadata": {},
     "output_type": "display_data"
    }
   ],
   "source": [
    "plt.figure(figsize=(12, 4))\n",
    "\n",
    "plt.subplot(1, 2, 1)\n",
    "plt.plot(history.history['accuracy'], label='Train Accuracy')\n",
    "plt.plot(history.history['val_accuracy'], label='Validation Accuracy')\n",
    "plt.title('Accuracy')\n",
    "plt.legend()\n",
    "\n",
    "plt.subplot(1, 2, 2)\n",
    "plt.plot(history.history['loss'], label='Train Loss')\n",
    "plt.plot(history.history['val_loss'], label='Validation Loss')\n",
    "plt.title('Loss')\n",
    "plt.legend()\n",
    "\n",
    "plt.show()"
   ]
  }
 ],
 "metadata": {
  "kernelspec": {
   "display_name": "Python 3",
   "language": "python",
   "name": "python3"
  },
  "language_info": {
   "codemirror_mode": {
    "name": "ipython",
    "version": 3
   },
   "file_extension": ".py",
   "mimetype": "text/x-python",
   "name": "python",
   "nbconvert_exporter": "python",
   "pygments_lexer": "ipython3",
   "version": "3.13.3"
  }
 },
 "nbformat": 4,
 "nbformat_minor": 5
}
